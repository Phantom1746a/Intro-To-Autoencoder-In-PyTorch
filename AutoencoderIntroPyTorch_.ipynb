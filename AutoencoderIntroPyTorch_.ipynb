{
  "nbformat": 4,
  "nbformat_minor": 0,
  "metadata": {
    "colab": {
      "provenance": [],
      "gpuType": "T4",
      "authorship_tag": "ABX9TyOtjEiA5wAD1u73/qTN0jiC",
      "include_colab_link": true
    },
    "kernelspec": {
      "name": "python3",
      "display_name": "Python 3"
    },
    "language_info": {
      "name": "python"
    },
    "accelerator": "GPU"
  },
  "cells": [
    {
      "cell_type": "markdown",
      "metadata": {
        "id": "view-in-github",
        "colab_type": "text"
      },
      "source": [
        "<a href=\"https://colab.research.google.com/github/Phantom1746a/Intro-To-Autoencoder-In-PyTorch/blob/main/AutoencoderIntroPyTorch_.ipynb\" target=\"_parent\"><img src=\"https://colab.research.google.com/assets/colab-badge.svg\" alt=\"Open In Colab\"/></a>"
      ]
    },
    {
      "cell_type": "markdown",
      "source": [
        "#Autoencoders\n",
        "Autoencoders are a type of neural network which generates an “n-layer” coding of the given input and attempts to reconstruct the input using the code generated"
      ],
      "metadata": {
        "id": "0p4gTPV4HFj-"
      }
    },
    {
      "cell_type": "markdown",
      "source": [
        "#Installing Pytorch"
      ],
      "metadata": {
        "id": "-3aNBSZYHTdt"
      }
    },
    {
      "cell_type": "code",
      "source": [
        "\n",
        "!pip install torch"
      ],
      "metadata": {
        "colab": {
          "base_uri": "https://localhost:8080/"
        },
        "id": "acZJEK4QHZ-K",
        "outputId": "73b8ad7c-48da-4094-eb19-8a6c2b0e34a2"
      },
      "execution_count": 1,
      "outputs": [
        {
          "output_type": "stream",
          "name": "stdout",
          "text": [
            "Requirement already satisfied: torch in /usr/local/lib/python3.10/dist-packages (2.4.0+cu121)\n",
            "Requirement already satisfied: filelock in /usr/local/lib/python3.10/dist-packages (from torch) (3.16.0)\n",
            "Requirement already satisfied: typing-extensions>=4.8.0 in /usr/local/lib/python3.10/dist-packages (from torch) (4.12.2)\n",
            "Requirement already satisfied: sympy in /usr/local/lib/python3.10/dist-packages (from torch) (1.13.2)\n",
            "Requirement already satisfied: networkx in /usr/local/lib/python3.10/dist-packages (from torch) (3.3)\n",
            "Requirement already satisfied: jinja2 in /usr/local/lib/python3.10/dist-packages (from torch) (3.1.4)\n",
            "Requirement already satisfied: fsspec in /usr/local/lib/python3.10/dist-packages (from torch) (2024.6.1)\n",
            "Requirement already satisfied: MarkupSafe>=2.0 in /usr/local/lib/python3.10/dist-packages (from jinja2->torch) (2.1.5)\n",
            "Requirement already satisfied: mpmath<1.4,>=1.1.0 in /usr/local/lib/python3.10/dist-packages (from sympy->torch) (1.3.0)\n"
          ]
        }
      ]
    },
    {
      "cell_type": "markdown",
      "source": [
        "#Torchvision:\n",
        "This module consists of a wide range of databases, image architectures, and transformations for computer vision"
      ],
      "metadata": {
        "id": "vs3tcCKnHfk2"
      }
    },
    {
      "cell_type": "code",
      "source": [
        "!pip install torchvision"
      ],
      "metadata": {
        "colab": {
          "base_uri": "https://localhost:8080/"
        },
        "id": "cZWYMy1qHrhs",
        "outputId": "c66edb11-66a4-4a06-aff1-7e8bf6bc06e7"
      },
      "execution_count": 2,
      "outputs": [
        {
          "output_type": "stream",
          "name": "stdout",
          "text": [
            "Requirement already satisfied: torchvision in /usr/local/lib/python3.10/dist-packages (0.19.0+cu121)\n",
            "Requirement already satisfied: numpy in /usr/local/lib/python3.10/dist-packages (from torchvision) (1.26.4)\n",
            "Requirement already satisfied: torch==2.4.0 in /usr/local/lib/python3.10/dist-packages (from torchvision) (2.4.0+cu121)\n",
            "Requirement already satisfied: pillow!=8.3.*,>=5.3.0 in /usr/local/lib/python3.10/dist-packages (from torchvision) (10.4.0)\n",
            "Requirement already satisfied: filelock in /usr/local/lib/python3.10/dist-packages (from torch==2.4.0->torchvision) (3.16.0)\n",
            "Requirement already satisfied: typing-extensions>=4.8.0 in /usr/local/lib/python3.10/dist-packages (from torch==2.4.0->torchvision) (4.12.2)\n",
            "Requirement already satisfied: sympy in /usr/local/lib/python3.10/dist-packages (from torch==2.4.0->torchvision) (1.13.2)\n",
            "Requirement already satisfied: networkx in /usr/local/lib/python3.10/dist-packages (from torch==2.4.0->torchvision) (3.3)\n",
            "Requirement already satisfied: jinja2 in /usr/local/lib/python3.10/dist-packages (from torch==2.4.0->torchvision) (3.1.4)\n",
            "Requirement already satisfied: fsspec in /usr/local/lib/python3.10/dist-packages (from torch==2.4.0->torchvision) (2024.6.1)\n",
            "Requirement already satisfied: MarkupSafe>=2.0 in /usr/local/lib/python3.10/dist-packages (from jinja2->torch==2.4.0->torchvision) (2.1.5)\n",
            "Requirement already satisfied: mpmath<1.4,>=1.1.0 in /usr/local/lib/python3.10/dist-packages (from sympy->torch==2.4.0->torchvision) (1.3.0)\n"
          ]
        }
      ]
    },
    {
      "cell_type": "code",
      "source": [
        "import torch\n",
        "from torchvision import datasets\n",
        "from torchvision import transforms\n",
        "import matplotlib.pyplot as plt"
      ],
      "metadata": {
        "id": "A47cdOSDHt3r"
      },
      "execution_count": 3,
      "outputs": []
    },
    {
      "cell_type": "markdown",
      "source": [
        " #Loading the Dataset\n",
        "\n",
        "The code loads the MNIST dataset into loader using DataLoader module. The dataset is downloaded and transformed into image tensors."
      ],
      "metadata": {
        "id": "FPBIXiQRIAC8"
      }
    },
    {
      "cell_type": "code",
      "source": [
        "# Transform Images to Pytorch Tensor\n",
        "tensor_transform = transforms.ToTensor()\n",
        "\n",
        "#Download th MNIST dataset\n",
        "dataset= datasets.MNIST(root=\"./data\", train=True, download=True, transform=tensor_transform)\n",
        "\n",
        "#loading The dataset\n",
        "loader = torch.utils.data.DataLoader(dataset=dataset, batch_size=32, shuffle=True)"
      ],
      "metadata": {
        "colab": {
          "base_uri": "https://localhost:8080/"
        },
        "id": "8pLqzFblIIn9",
        "outputId": "9cacd038-ec15-424b-fa65-2c0fbad7aea2"
      },
      "execution_count": 4,
      "outputs": [
        {
          "output_type": "stream",
          "name": "stdout",
          "text": [
            "Downloading http://yann.lecun.com/exdb/mnist/train-images-idx3-ubyte.gz\n",
            "Failed to download (trying next):\n",
            "HTTP Error 403: Forbidden\n",
            "\n",
            "Downloading https://ossci-datasets.s3.amazonaws.com/mnist/train-images-idx3-ubyte.gz\n",
            "Downloading https://ossci-datasets.s3.amazonaws.com/mnist/train-images-idx3-ubyte.gz to ./data/MNIST/raw/train-images-idx3-ubyte.gz\n"
          ]
        },
        {
          "output_type": "stream",
          "name": "stderr",
          "text": [
            "100%|██████████| 9912422/9912422 [00:02<00:00, 4557065.35it/s]\n"
          ]
        },
        {
          "output_type": "stream",
          "name": "stdout",
          "text": [
            "Extracting ./data/MNIST/raw/train-images-idx3-ubyte.gz to ./data/MNIST/raw\n",
            "\n",
            "Downloading http://yann.lecun.com/exdb/mnist/train-labels-idx1-ubyte.gz\n",
            "Failed to download (trying next):\n",
            "HTTP Error 403: Forbidden\n",
            "\n",
            "Downloading https://ossci-datasets.s3.amazonaws.com/mnist/train-labels-idx1-ubyte.gz\n",
            "Downloading https://ossci-datasets.s3.amazonaws.com/mnist/train-labels-idx1-ubyte.gz to ./data/MNIST/raw/train-labels-idx1-ubyte.gz\n"
          ]
        },
        {
          "output_type": "stream",
          "name": "stderr",
          "text": [
            "100%|██████████| 28881/28881 [00:00<00:00, 134108.25it/s]\n"
          ]
        },
        {
          "output_type": "stream",
          "name": "stdout",
          "text": [
            "Extracting ./data/MNIST/raw/train-labels-idx1-ubyte.gz to ./data/MNIST/raw\n",
            "\n",
            "Downloading http://yann.lecun.com/exdb/mnist/t10k-images-idx3-ubyte.gz\n",
            "Failed to download (trying next):\n",
            "HTTP Error 403: Forbidden\n",
            "\n",
            "Downloading https://ossci-datasets.s3.amazonaws.com/mnist/t10k-images-idx3-ubyte.gz\n",
            "Downloading https://ossci-datasets.s3.amazonaws.com/mnist/t10k-images-idx3-ubyte.gz to ./data/MNIST/raw/t10k-images-idx3-ubyte.gz\n"
          ]
        },
        {
          "output_type": "stream",
          "name": "stderr",
          "text": [
            "100%|██████████| 1648877/1648877 [00:01<00:00, 1088495.03it/s]\n"
          ]
        },
        {
          "output_type": "stream",
          "name": "stdout",
          "text": [
            "Extracting ./data/MNIST/raw/t10k-images-idx3-ubyte.gz to ./data/MNIST/raw\n",
            "\n",
            "Downloading http://yann.lecun.com/exdb/mnist/t10k-labels-idx1-ubyte.gz\n",
            "Failed to download (trying next):\n",
            "HTTP Error 403: Forbidden\n",
            "\n",
            "Downloading https://ossci-datasets.s3.amazonaws.com/mnist/t10k-labels-idx1-ubyte.gz\n",
            "Downloading https://ossci-datasets.s3.amazonaws.com/mnist/t10k-labels-idx1-ubyte.gz to ./data/MNIST/raw/t10k-labels-idx1-ubyte.gz\n"
          ]
        },
        {
          "output_type": "stream",
          "name": "stderr",
          "text": [
            "100%|██████████| 4542/4542 [00:00<00:00, 9901522.23it/s]"
          ]
        },
        {
          "output_type": "stream",
          "name": "stdout",
          "text": [
            "Extracting ./data/MNIST/raw/t10k-labels-idx1-ubyte.gz to ./data/MNIST/raw\n",
            "\n"
          ]
        },
        {
          "output_type": "stream",
          "name": "stderr",
          "text": [
            "\n"
          ]
        }
      ]
    },
    {
      "cell_type": "markdown",
      "source": [
        "## Creating AutoEncoder class\n",
        "The dimensions of models are as below\n",
        "\n",
        "#Encoder\n",
        "28*28=784==> 128==> 64==> 36==> 18==> 9\n",
        "#Decoder\n",
        "9==> 18==> 36==> 64==> 128==> 28*28=784\n"
      ],
      "metadata": {
        "id": "7qk5EywWI3i8"
      }
    },
    {
      "cell_type": "code",
      "source": [
        "class AutoEncoder(torch.nn.Module):\n",
        "  def __init__(self):\n",
        "    super().__init__()\n",
        "\n",
        "    #Building Encoder With ReLu Activation\n",
        "    self.encoder = torch.nn.Sequential(\n",
        "        torch.nn.Linear(28*28,128),\n",
        "        torch.nn.ReLU(),\n",
        "        torch.nn.Linear(128,64),\n",
        "        torch.nn.ReLU(),\n",
        "        torch.nn.Linear(64,36),\n",
        "        torch.nn.ReLU(),\n",
        "        torch.nn.Linear(36,18),\n",
        "        torch.nn.ReLU(),\n",
        "        torch.nn.Linear(18,9),\n",
        "    )\n",
        "\n",
        "\n",
        "\n",
        "    #Building Decoder\n",
        "    self.decoder = torch.nn.Sequential(\n",
        "        torch.nn.Linear(9,18),\n",
        "        torch.nn.ReLU(),\n",
        "        torch.nn.Linear(18,36),\n",
        "        torch.nn.ReLU(),\n",
        "        torch.nn.Linear(36,64),\n",
        "        torch.nn.ReLU(),\n",
        "        torch.nn.Linear(64,128),\n",
        "        torch.nn.ReLU(),\n",
        "        torch.nn.Linear(128,28*28,),\n",
        "        torch.nn.Sigmoid(),\n",
        "\n",
        ")\n",
        "\n",
        "  def forward(self,x):\n",
        "    encoded = self.encoder(x)\n",
        "    decoded = self.decoder(encoded)\n",
        "    return decoded"
      ],
      "metadata": {
        "id": "LWYxWVcBJJ66"
      },
      "execution_count": 5,
      "outputs": []
    },
    {
      "cell_type": "markdown",
      "source": [
        "#Initializing model"
      ],
      "metadata": {
        "id": "6yM_GjZbMmPW"
      }
    },
    {
      "cell_type": "code",
      "source": [
        "model = AutoEncoder()\n",
        "\n",
        "#We validate the model using the Mean Squared Error function,\n",
        "\n",
        "loss_function = torch.nn.MSELoss()\n",
        "\n",
        "#we use an Adam Optimizer with a learning rate of 0.1 and weight of 1e-8\n",
        "\n",
        "optimizer =torch.optim.Adam(model.parameters(),\n",
        "                            lr=1e-1,\n",
        "                            weight_decay=1e-8)\n"
      ],
      "metadata": {
        "id": "-LGguRtKMucN"
      },
      "execution_count": 6,
      "outputs": []
    },
    {
      "cell_type": "code",
      "source": [
        "\n",
        "epochs = 10\n",
        "outputs = []\n",
        "losses = []\n",
        "for epoch in range(epochs):\n",
        "    for (image, _) in loader:\n",
        "\n",
        "      # Reshaping the image to (-1, 784)\n",
        "      image = image.reshape(-1, 28*28)\n",
        "\n",
        "      # Output of Autoencoder\n",
        "      reconstructed = model(image)\n",
        "\n",
        "      # Calculating the loss function\n",
        "      loss = loss_function(reconstructed, image)\n",
        "\n",
        "      # The gradients are set to zero,\n",
        "      # the gradient is computed and stored.\n",
        "      # .step() performs parameter update\n",
        "      optimizer.zero_grad()\n",
        "      loss.backward()\n",
        "      optimizer.step()\n",
        "\n",
        "      # Storing the losses in a list for plotting\n",
        "      losses.append(loss)\n",
        "      #print(f'Epoch:{epoch+1}, Loss:{loss.item():.4f}')\n",
        "    outputs.append((epochs, image, reconstructed))\n",
        "\n"
      ],
      "metadata": {
        "id": "J3HPU8_4NV_G"
      },
      "execution_count": 18,
      "outputs": []
    },
    {
      "cell_type": "markdown",
      "source": [
        "# Input/Reconstructed Input to/from Autoencoder"
      ],
      "metadata": {
        "id": "lkbOaw56N-Yd"
      }
    },
    {
      "cell_type": "code",
      "source": [
        "for i, item in enumerate(image):\n",
        "\n",
        "  # Reshape the array for plotting\n",
        "  item = item.reshape(-1, 28, 28)\n",
        "  plt.imshow(item[0])\n",
        "\n"
      ],
      "metadata": {
        "id": "ORxo8q0hOCgb",
        "colab": {
          "base_uri": "https://localhost:8080/",
          "height": 450
        },
        "outputId": "7205408d-5caa-4a83-e656-0e13432a78bb"
      },
      "execution_count": 20,
      "outputs": [
        {
          "output_type": "display_data",
          "data": {
            "text/plain": [
              "<Figure size 640x480 with 1 Axes>"
            ],
            "image/png": "[encoded data removed]"
          },
          "metadata": {}
        }
      ]
    },
    {
      "source": [
        "for i, item in enumerate(reconstructed):\n",
        "  # Detach the tensor from the computation graph and convert to NumPy array\n",
        "  item = item.detach().numpy().reshape(-1, 28, 28)\n",
        "  plt.imshow(item[0])"
      ],
      "cell_type": "code",
      "metadata": {
        "colab": {
          "base_uri": "https://localhost:8080/",
          "height": 450
        },
        "id": "l9Luy1CKRPXQ",
        "outputId": "8e75ab42-9199-4405-cc68-d975db71b91f"
      },
      "execution_count": 21,
      "outputs": [
        {
          "output_type": "display_data",
          "data": {
            "text/plain": [
              "<Figure size 640x480 with 1 Axes>"
            ],
            "image/png": "[encoded data removed]"
          },
          "metadata": {}
        }
      ]
    },
    {
      "source": [
        "# Defining the Plot Style\n",
        "plt.style.use('fivethirtyeight')\n",
        "plt.xlabel('Iterations')\n",
        "plt.ylabel('Loss')\n",
        "\n",
        "# Plotting the last 100 values\n",
        "# Convert the tensors to NumPy arrays and extract the scalar loss values\n",
        "plt.plot([loss.detach().numpy().item() for loss in losses[-10:]])"
      ],
      "cell_type": "code",
      "metadata": {
        "colab": {
          "base_uri": "https://localhost:8080/",
          "height": 495
        },
        "id": "GLGBW0ByRFig",
        "outputId": "b38ac198-bdb6-4f0b-f2a0-c32b4b0c0827"
      },
      "execution_count": 22,
      "outputs": [
        {
          "output_type": "execute_result",
          "data": {
            "text/plain": [
              "[<matplotlib.lines.Line2D at 0x7bfcc4516980>]"
            ]
          },
          "metadata": {},
          "execution_count": 22
        },
        {
          "output_type": "display_data",
          "data": {
            "text/plain": [
              "<Figure size 640x480 with 1 Axes>"
            ],
            "image/png": "[encoded data removed]"
          },
          "metadata": {}
        }
      ]
    }
  ]
}